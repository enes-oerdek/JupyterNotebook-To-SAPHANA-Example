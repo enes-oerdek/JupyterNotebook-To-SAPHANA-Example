{
 "cells": [
  {
   "cell_type": "code",
   "execution_count": 1,
   "id": "3b27d952",
   "metadata": {},
   "outputs": [],
   "source": [
    "import pandas as pd\n",
    "import numpy as np"
   ]
  },
  {
   "cell_type": "code",
   "execution_count": 2,
   "id": "3640a33a",
   "metadata": {},
   "outputs": [],
   "source": [
    "df = pd.read_csv('bevolkerungsbestand-in-mannheim-2009-2020.csv', sep=';')  "
   ]
  },
  {
   "cell_type": "code",
   "execution_count": 3,
   "id": "9319352c",
   "metadata": {},
   "outputs": [
    {
     "data": {
      "text/html": [
       "<div>\n",
       "<style scoped>\n",
       "    .dataframe tbody tr th:only-of-type {\n",
       "        vertical-align: middle;\n",
       "    }\n",
       "\n",
       "    .dataframe tbody tr th {\n",
       "        vertical-align: top;\n",
       "    }\n",
       "\n",
       "    .dataframe thead th {\n",
       "        text-align: right;\n",
       "    }\n",
       "</style>\n",
       "<table border=\"1\" class=\"dataframe\">\n",
       "  <thead>\n",
       "    <tr style=\"text-align: right;\">\n",
       "      <th></th>\n",
       "      <th>ID</th>\n",
       "      <th>Jahr</th>\n",
       "      <th>Stadtteilschlüssel</th>\n",
       "      <th>Stadtteilname</th>\n",
       "      <th>Bevölkerung am Ort der Hauptwohnung insgesamt</th>\n",
       "      <th>Bevölkerung am Ort der Hauptwohnung weiblich</th>\n",
       "      <th>Bevölkerung am Ort der Hauptwohnung ohne Migrationshintergrund</th>\n",
       "      <th>Bevölkerung am Ort der Hauptwohnung Migrationshintergrund</th>\n",
       "      <th>Bevölkerung am Ort der Hauptwohnung Ausländer</th>\n",
       "    </tr>\n",
       "  </thead>\n",
       "  <tbody>\n",
       "    <tr>\n",
       "      <th>0</th>\n",
       "      <td>1</td>\n",
       "      <td>2020</td>\n",
       "      <td>11</td>\n",
       "      <td>Innenstadt</td>\n",
       "      <td>24217</td>\n",
       "      <td>11531</td>\n",
       "      <td>9646</td>\n",
       "      <td>14571</td>\n",
       "      <td>9999</td>\n",
       "    </tr>\n",
       "    <tr>\n",
       "      <th>1</th>\n",
       "      <td>6</td>\n",
       "      <td>2020</td>\n",
       "      <td>33</td>\n",
       "      <td>Neckarstadt-Nordost</td>\n",
       "      <td>5507</td>\n",
       "      <td>2746</td>\n",
       "      <td>2536</td>\n",
       "      <td>2971</td>\n",
       "      <td>1546</td>\n",
       "    </tr>\n",
       "    <tr>\n",
       "      <th>2</th>\n",
       "      <td>14</td>\n",
       "      <td>2020</td>\n",
       "      <td>72</td>\n",
       "      <td>Schönau-Süd</td>\n",
       "      <td>3685</td>\n",
       "      <td>1832</td>\n",
       "      <td>2511</td>\n",
       "      <td>1174</td>\n",
       "      <td>525</td>\n",
       "    </tr>\n",
       "    <tr>\n",
       "      <th>3</th>\n",
       "      <td>24</td>\n",
       "      <td>2020</td>\n",
       "      <td>121</td>\n",
       "      <td>Käfertal-Mitte</td>\n",
       "      <td>8767</td>\n",
       "      <td>4320</td>\n",
       "      <td>5253</td>\n",
       "      <td>3514</td>\n",
       "      <td>1986</td>\n",
       "    </tr>\n",
       "    <tr>\n",
       "      <th>4</th>\n",
       "      <td>25</td>\n",
       "      <td>2020</td>\n",
       "      <td>122</td>\n",
       "      <td>Speckweggebiet</td>\n",
       "      <td>2770</td>\n",
       "      <td>1411</td>\n",
       "      <td>1712</td>\n",
       "      <td>1058</td>\n",
       "      <td>431</td>\n",
       "    </tr>\n",
       "  </tbody>\n",
       "</table>\n",
       "</div>"
      ],
      "text/plain": [
       "   ID  Jahr  Stadtteilschlüssel        Stadtteilname  \\\n",
       "0   1  2020                  11           Innenstadt   \n",
       "1   6  2020                  33  Neckarstadt-Nordost   \n",
       "2  14  2020                  72          Schönau-Süd   \n",
       "3  24  2020                 121       Käfertal-Mitte   \n",
       "4  25  2020                 122       Speckweggebiet   \n",
       "\n",
       "   Bevölkerung am Ort der Hauptwohnung insgesamt  \\\n",
       "0                                          24217   \n",
       "1                                           5507   \n",
       "2                                           3685   \n",
       "3                                           8767   \n",
       "4                                           2770   \n",
       "\n",
       "   Bevölkerung am Ort der Hauptwohnung weiblich  \\\n",
       "0                                         11531   \n",
       "1                                          2746   \n",
       "2                                          1832   \n",
       "3                                          4320   \n",
       "4                                          1411   \n",
       "\n",
       "   Bevölkerung am Ort der Hauptwohnung ohne Migrationshintergrund  \\\n",
       "0                                               9646                \n",
       "1                                               2536                \n",
       "2                                               2511                \n",
       "3                                               5253                \n",
       "4                                               1712                \n",
       "\n",
       "   Bevölkerung am Ort der Hauptwohnung Migrationshintergrund  \\\n",
       "0                                              14571           \n",
       "1                                               2971           \n",
       "2                                               1174           \n",
       "3                                               3514           \n",
       "4                                               1058           \n",
       "\n",
       "   Bevölkerung am Ort der Hauptwohnung Ausländer  \n",
       "0                                           9999  \n",
       "1                                           1546  \n",
       "2                                            525  \n",
       "3                                           1986  \n",
       "4                                            431  "
      ]
     },
     "execution_count": 3,
     "metadata": {},
     "output_type": "execute_result"
    }
   ],
   "source": [
    "df.head()"
   ]
  },
  {
   "cell_type": "code",
   "execution_count": 4,
   "id": "ac44d9d6",
   "metadata": {},
   "outputs": [],
   "source": [
    "import platform\n",
    "from hdbcli import dbapi\n",
    "from sqlalchemy import create_engine\n",
    "from sqlalchemy.orm import sessionmaker\n",
    "\n",
    "address=''\n",
    "port='443'\n",
    "user=''\n",
    "password = \"\";"
   ]
  },
  {
   "cell_type": "code",
   "execution_count": 5,
   "id": "0c8160a9",
   "metadata": {},
   "outputs": [
    {
     "name": "stdout",
     "output_type": "stream",
     "text": [
      "\n"
     ]
    }
   ],
   "source": [
    "connection_string = 'hana://%s:%s@%s:%s' % (user,password, address, port)\n",
    "ssl_args = {'encrypt': 'True', 'sslValidateCertificate':'False'}\n",
    "print(connection_string)"
   ]
  },
  {
   "cell_type": "code",
   "execution_count": 6,
   "id": "9541bcbd",
   "metadata": {},
   "outputs": [
    {
     "name": "stdout",
     "output_type": "stream",
     "text": [
      "\n"
     ]
    }
   ],
   "source": [
    "engine = create_engine(connection_string, connect_args = ssl_args)\n",
    "connection = engine.connect()\n",
    "df.to_sql('MannheimTest',connection,index =False, if_exists ='replace')"
   ]
  }
 ],
 "metadata": {
  "kernelspec": {
   "display_name": "Python 3 (ipykernel)",
   "language": "python",
   "name": "python3"
  },
  "language_info": {
   "codemirror_mode": {
    "name": "ipython",
    "version": 3
   },
   "file_extension": ".py",
   "mimetype": "text/x-python",
   "name": "python",
   "nbconvert_exporter": "python",
   "pygments_lexer": "ipython3",
   "version": "3.10.4"
  }
 },
 "nbformat": 4,
 "nbformat_minor": 5
}
